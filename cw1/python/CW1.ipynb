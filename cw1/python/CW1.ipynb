{
 "cells": [
  {
   "cell_type": "code",
   "execution_count": null,
   "metadata": {
    "collapsed": true
   },
   "outputs": [],
   "source": [
    "# Advanced Statistical Machine Learning & Pattern Recognition - CO495\n",
    "# skeleton for CW1\n",
    "# Written for Python 3."
   ]
  },
  {
   "cell_type": "code",
   "execution_count": null,
   "metadata": {
    "collapsed": true
   },
   "outputs": [],
   "source": [
    "import h5py\n",
    "from scipy.io import savemat\n",
    "import numpy as np\n",
    "import csv\n",
    "import matplotlib.pyplot as plt\n",
    "\n",
    "try:\n",
    "    %matplotlib inline\n",
    "except NameError:\n",
    "    # this is a terminal, that's fine.\n",
    "    pass"
   ]
  },
  {
   "cell_type": "code",
   "execution_count": null,
   "metadata": {
    "collapsed": false
   },
   "outputs": [],
   "source": [
    "# load the file.\n",
    "f = h5py.File('X.mat')\n",
    "f.keys()\n",
    "\n",
    "X = f.get('X').value\n",
    "\n",
    "# optionally visualise the X matrix.\n",
    "try:\n",
    "    plt.plot(data[0, :], data[1, :], '*')\n",
    "except:\n",
    "    pass"
   ]
  },
  {
   "cell_type": "markdown",
   "metadata": {},
   "source": [
    "# EM Init"
   ]
  },
  {
   "cell_type": "code",
   "execution_count": null,
   "metadata": {
    "collapsed": true
   },
   "outputs": [],
   "source": [
    "def EMInit(B, C):\n",
    "    A = []\n",
    "    print('Please fill in the function and delete the comment!')\n",
    "    return A"
   ]
  },
  {
   "cell_type": "markdown",
   "metadata": {},
   "source": [
    "# EM E step"
   ]
  },
  {
   "cell_type": "code",
   "execution_count": null,
   "metadata": {
    "collapsed": true
   },
   "outputs": [],
   "source": [
    "def EMEStep(B, C, D):\n",
    "    E = []\n",
    "    print('Please fill in the function and delete the comment!')\n",
    "    return E"
   ]
  },
  {
   "cell_type": "markdown",
   "metadata": {},
   "source": [
    "# EM M step"
   ]
  },
  {
   "cell_type": "code",
   "execution_count": null,
   "metadata": {
    "collapsed": true
   },
   "outputs": [],
   "source": [
    "def EMMStep(B, C, E):\n",
    "    A = []\n",
    "    print('Please fill in the function and delete the comment!')\n",
    "    return A"
   ]
  },
  {
   "cell_type": "markdown",
   "metadata": {},
   "source": [
    "# GMM Demo"
   ]
  },
  {
   "cell_type": "code",
   "execution_count": null,
   "metadata": {
    "collapsed": true
   },
   "outputs": [],
   "source": [
    "# aux functions\n",
    "def random_params_generator(K):\n",
    "    params = {}\n",
    "    for i in range(1, K + 1):\n",
    "        nn = 'means_{}'.format(i)\n",
    "        params[nn] = np.random.rand(2)\n",
    "        nn = 'covars_{}'.format(i)\n",
    "        params[nn] = np.random.rand(2, 2)\n",
    "        nn = 'mixCoeff_{}'.format(i)\n",
    "        params[nn] = np.random.rand(1)\n",
    "    return params\n",
    "\n",
    "\n",
    "def convert_params_to_row(params, K):\n",
    "    # accepts the params dict and converts it to a row to be exported.\n",
    "    # The covars are flattened per row.\n",
    "    row = []\n",
    "    for var in ['means', 'covars', 'mixCoeff']:\n",
    "        for i in range(1, K + 1):\n",
    "            elems = params['{}_{}'.format(var, i)].flatten()\n",
    "            row += [str(el) for el in elems]\n",
    "    return row"
   ]
  },
  {
   "cell_type": "code",
   "execution_count": null,
   "metadata": {
    "collapsed": false
   },
   "outputs": [],
   "source": [
    "def GMMDemo(X, K=4):\n",
    "    # accepts a 2 dimensional matrix X with the observed \n",
    "    # data and the K, which represents the number of clusters.\n",
    "    # Please do not modify it!\n",
    "    #\n",
    "    # initialise the parameters\n",
    "    params = EMInit(X, K) \n",
    "    # params should be a dict() with the following format:\n",
    "    # params['means_[i]'] -> [2x1 float] (i \\in [1, K])\n",
    "    # params['covars_[i]'] -> [2x2 float] (i \\in [1, K])\n",
    "    # params['mixCoeff_[i]'] -> [1x1 float] (i \\in [1, K])\n",
    "    \n",
    "    # EM algorithm\n",
    "    # do not change the iterations --- keep them fixed.\n",
    "    for i  in range(10):\n",
    "        # E step\n",
    "        resp = EMEStep(X, K, params); # compute responsibilities, i.e., every \\gamma(z_{n,k})\n",
    "\n",
    "        # M step\n",
    "        params = EMMStep(X, K, resp) # update the values for the parameters\n",
    "\n",
    "    # comment out the line below once you have implemented \n",
    "    # the init code!\n",
    "    params = random_params_generator(K)\n",
    "    # save the final values for the parameters\n",
    "    # savemat('params.mat', {'params' : params})\n",
    "    # export in csv.\n",
    "    row = convert_params_to_row(params, K)\n",
    "    with open('params.csv', 'w', encoding='utf-8-sig') as fn:\n",
    "        writer = csv.writer(fn)\n",
    "        writer.writerow(row)"
   ]
  },
  {
   "cell_type": "code",
   "execution_count": null,
   "metadata": {
    "collapsed": false
   },
   "outputs": [],
   "source": [
    "GMMDemo(X)"
   ]
  }
 ],
 "metadata": {
  "kernelspec": {
   "display_name": "Python 3",
   "language": "python",
   "name": "python3"
  },
  "language_info": {
   "codemirror_mode": {
    "name": "ipython",
    "version": 3
   },
   "file_extension": ".py",
   "mimetype": "text/x-python",
   "name": "python",
   "nbconvert_exporter": "python",
   "pygments_lexer": "ipython3",
   "version": "3.4.5"
  }
 },
 "nbformat": 4,
 "nbformat_minor": 0
}
