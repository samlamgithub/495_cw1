{
 "cells": [
  {
   "cell_type": "code",
   "execution_count": null,
   "metadata": {
    "collapsed": true,
    "deletable": true,
    "editable": true
   },
   "outputs": [],
   "source": [
    "# Advanced Statistical Machine Learning & Pattern Recognition - CO495\n",
    "# skeleton for CW1\n",
    "# Written for Python 3."
   ]
  },
  {
   "cell_type": "code",
   "execution_count": null,
   "metadata": {
    "collapsed": false,
    "deletable": true,
    "editable": true
   },
   "outputs": [],
   "source": [
    "import h5py\n",
    "from scipy.io import savemat\n",
    "import numpy as np\n",
    "import csv\n",
    "import matplotlib.pyplot as plt\n",
    "\n",
    "try:\n",
    "    %matplotlib inline\n",
    "except NameError:\n",
    "    # this is a terminal, that's fine.\n",
    "    pass"
   ]
  },
  {
   "cell_type": "code",
   "execution_count": null,
   "metadata": {
    "collapsed": false,
    "deletable": true,
    "editable": true
   },
   "outputs": [],
   "source": [
    "import numpy as np\n",
    "from scipy import cluster\n",
    "# load the file.\n",
    "f = h5py.File('X.mat')\n",
    "f.keys()\n",
    "\n",
    "X = f.get('X').value\n",
    "print(X.shape)\n",
    "X_T = np.transpose(X)\n",
    "white_X_T = cluster.vq.whiten(X_T)\n",
    "init_centroid = np.array([[2,2],[4.25,4.25],[7,2],[8,9]], np.float32)\n",
    "centroids, labels = cluster.vq.kmeans2(white_X_T,k=init_centroid, iter=100, thresh=1e-05, minit='matrix', missing='warn', check_finite=True)\n",
    "print(centroids)\n",
    "print(labels)\n",
    "# print(len(X[0,:]))\n",
    "# optionally visualise the X matrix.\n",
    "try:\n",
    "    plt.plot(X[0, :], X[1, :], '*')\n",
    "except:\n",
    "    pass"
   ]
  },
  {
   "cell_type": "markdown",
   "metadata": {
    "deletable": true,
    "editable": true
   },
   "source": [
    "# EM Init"
   ]
  },
  {
   "cell_type": "code",
   "execution_count": null,
   "metadata": {
    "collapsed": true,
    "deletable": true,
    "editable": true
   },
   "outputs": [],
   "source": [
    "from scipy import cluster\n",
    "import numpy\n",
    "\n",
    "def EMInit(X,K):\n",
    "#     (X, K) \n",
    "#     X_T = np.transpose(X)\n",
    "#     white_X_T = cluster.vq.whiten(X_T)\n",
    "#     centroids, labels = cluster.vq.kmeans2(white_X_T, K, iter=50, thresh=1e-05, minit='random', missing='warn', check_finite=True)\n",
    "#     print(centroids)\n",
    "#     params = {}\n",
    "#     for i in range(1, K + 1):\n",
    "#         nn = 'means_{}'.format(i)\n",
    "#         params[nn] = centroids[i-1]\n",
    "#         nn = 'covars_{}'.format(i)\n",
    "#         params[nn] = numpy.identity(2)\n",
    "#         nn = 'mixCoeff_{}'.format(i)\n",
    "#         params[nn] = 1/4\n",
    "#     print(\"init: \", params)\n",
    "#     return params\n",
    "#     print(labels)\n",
    "#     print('Please fill in the function and delete the comment!')\n",
    "    return random_params_generator(K)"
   ]
  },
  {
   "cell_type": "markdown",
   "metadata": {
    "deletable": true,
    "editable": true
   },
   "source": [
    "# EM E step"
   ]
  },
  {
   "cell_type": "code",
   "execution_count": null,
   "metadata": {
    "collapsed": false,
    "deletable": true,
    "editable": true
   },
   "outputs": [],
   "source": [
    "from scipy import stats\n",
    "import numpy as np\n",
    "\n",
    "def is_pos_semi_def(x):\n",
    "    return np.all(np.linalg.eigvals(x) >= 0)\n",
    "\n",
    "def EMEStep(X, K, params):\n",
    "    # X, K, params\n",
    "    # X is (2, 2000)\n",
    "    # Z is N x k = 2000 x k\n",
    "#     print(len(X[0,:]))\n",
    "#     print(C)\n",
    "    z = numpy.zeros((len(X[0,:]), K))\n",
    "#     print(\"z shape:\", z.shape)\n",
    "    for n in range(len(X[0,:])):\n",
    "        for k in range(K):\n",
    "            pi_k = params['mixCoeff_{}'.format(k+1)]\n",
    "            mu_k = params['means_{}'.format(k+1)]\n",
    "            cov_k = params['covars_{}'.format(k+1)]\n",
    "#             if not is_pos_semi_def(cov_k):\n",
    "#                 cov_k_positivesemi = numpy.dot(cov_k, cov_k.transpose())\n",
    "#             else:\n",
    "#                 cov_k_positivesemi = cov_k\n",
    "#             if np.linalg.cond(cov_k) < 1/sys.float_info.epsilon:\n",
    "#                 print(\"fuck1!!!!\")\n",
    "#                 print(cov_k)\n",
    "#             print(\"cov: \", cov_k)\n",
    "            N_nk = stats.multivariate_normal.pdf(X[:, n], mean=mu_k, cov=cov_k)\n",
    "            numerator = np.multiply(pi_k,N_nk) # 1x1\n",
    "#             print(\"numerator shape: \", numerator.shape)\n",
    "            z[n, k] = numerator\n",
    "        denominator = z.sum(axis=1)[n] # 1x1\n",
    "#         print(\"denominator shape: \", denominator.shape)\n",
    "        n_row = np.divide(z[n,:], denominator)\n",
    "#         print(\"n_row shape: \", n_row.shape) # 1xk\n",
    "        z[n,:] = n_row\n",
    "#     print('Please fill in the function and delete the comment!')\n",
    "    return z"
   ]
  },
  {
   "cell_type": "markdown",
   "metadata": {
    "deletable": true,
    "editable": true
   },
   "source": [
    "# EM M step"
   ]
  },
  {
   "cell_type": "code",
   "execution_count": null,
   "metadata": {
    "collapsed": false,
    "deletable": true,
    "editable": true
   },
   "outputs": [],
   "source": [
    "def EMMStep(X, K, E):\n",
    "#     (X, K, resp)\n",
    "    N = X.shape[1]\n",
    "    D = X.shape[0]\n",
    "    print(\"D = \", D)\n",
    "    print(\"N = \", N)\n",
    "    print(\"K = \", K)\n",
    "    E_sum_row = E.sum(axis=0) # k x 1\n",
    "#     E_sum_row = numpy.reshape(E_sum_row, (1,K))\n",
    "#     print(\"E_sum_row = \", E_sum_row.shape)\n",
    "    pi = np.divide(E_sum_row, N) # k x 1\n",
    "    print(\"pi = \", pi)\n",
    "#     print(\"pi.shape: \", pi.shape)\n",
    "# E_sum_row =  (1, 4)\n",
    "# pi =  (1, 4)\n",
    "# mu_k shape:  (2,)\n",
    "# diff.shape:  (2,)\n",
    "# diff.shape:  (2, 1)\n",
    "# diff_sq.shape:  (2, 2)\n",
    "# numerator.shape:  (2, 2)\n",
    "    mu = numpy.zeros((K, D)) # K x D\n",
    "    E_T = numpy.transpose(E) # K x N\n",
    "    X_T = numpy.transpose(X) # N x D\n",
    "    mu = numpy.dot(E_T, X_T) # K x D\n",
    "    cov = numpy.zeros((K, D, D)) # K x D x D\n",
    "    for k in range(K):\n",
    "        mu[k, :] = np.divide(mu[k, :], E_sum_row[k])\n",
    "#         print(\"mu[k, :] \", mu[k, :])\n",
    "        numerator = numpy.zeros((D, D)) # D x D\n",
    "        for n in range(N):\n",
    "            mu_k = mu[k, :] # 1 x D \n",
    "#             print(\"mu_k shape: \", mu_k.shape)\n",
    "            diff = numpy.subtract(np.transpose(X[:, n]), mu_k) # 1 x D \n",
    "#             print(\"diff: \", diff)\n",
    "            diff = numpy.reshape(diff, (2,1))\n",
    "            diff_sq = numpy.dot(diff, numpy.transpose(diff)) # D x D\n",
    "#             diff = numpy.reshape(mu_k, (1, D))\n",
    "#             print(\"diff.shape: \", diff.shape)\n",
    "#             diff_sq = numpy.dot(numpy.transpose(diff),diff) # D x D\n",
    "#             print(\"diff_sq: \", diff_sq)\n",
    "            numerator = numerator + numpy.multiply(E[n, k],diff_sq)\n",
    "#             print(\"numerator.shape: \", numerator.shape)\n",
    "        denominator = E_sum_row[k]\n",
    "#         print(\"numerator: \", numerator)\n",
    "#         print(\"denominator: \", denominator)\n",
    "        covv = np.divide(numerator, denominator)\n",
    "#         print(\"covv: \", covv)\n",
    "        cov[k, :, :] = covv\n",
    "#         print(\"cov_k: \", cov[k, :, :])\n",
    "#     print(\"mu\", mu)\n",
    "    params = {}\n",
    "    for i in range(1, K + 1):\n",
    "        nn = 'means_{}'.format(i)\n",
    "        params[nn] = mu[i-1]\n",
    "        nn = 'covars_{}'.format(i)\n",
    "        params[nn] = cov[i-1]\n",
    "        nn = 'mixCoeff_{}'.format(i)\n",
    "        params[nn] = np.array([pi[i-1]])\n",
    "    return params"
   ]
  },
  {
   "cell_type": "markdown",
   "metadata": {
    "deletable": true,
    "editable": true
   },
   "source": [
    "# GMM Demo"
   ]
  },
  {
   "cell_type": "code",
   "execution_count": null,
   "metadata": {
    "collapsed": false,
    "deletable": true,
    "editable": true
   },
   "outputs": [],
   "source": [
    "import numpy as py\n",
    "\n",
    "# aux functions\n",
    "def random_params_generator(K):\n",
    "    params = {}\n",
    "    for i in range(1, K + 1):\n",
    "        nn = 'means_{}'.format(i)\n",
    "        params[nn] = np.random.rand(2)\n",
    "        nn = 'covars_{}'.format(i)\n",
    "        x = np.random.rand(2, 2)\n",
    "        params[nn] = np.dot(np.transpose(x), x)\n",
    "        nn = 'mixCoeff_{}'.format(i)\n",
    "        params[nn] = np.random.rand(1)\n",
    "    return params\n",
    "\n",
    "\n",
    "def convert_params_to_row(params, K):\n",
    "    # accepts the params dict and converts it to a row to be exported.\n",
    "    # The covars are flattened per row.\n",
    "    row = []\n",
    "    for var in ['means', 'covars', 'mixCoeff']:\n",
    "        for i in range(1, K + 1):\n",
    "            elems = params['{}_{}'.format(var, i)].flatten()\n",
    "            row += [str(el) for el in elems]\n",
    "    return row\n",
    "\n",
    "# pp = random_params_generator(4)\n",
    "# p = pp['means_1']\n",
    "# print(p)"
   ]
  },
  {
   "cell_type": "code",
   "execution_count": null,
   "metadata": {
    "collapsed": false,
    "deletable": true,
    "editable": true
   },
   "outputs": [],
   "source": [
    "def GMMDemo(X, K=4):\n",
    "    # accepts a 2 dimensional matrix X with the observed \n",
    "    # data and the K, which represents the number of clusters.\n",
    "    # Please do not modify it!\n",
    "    #\n",
    "    # initialise the parameters\n",
    "    params = EMInit(X, K) \n",
    "    # params should be a dict() with the following format:\n",
    "    # params['means_[i]'] -> [2x1 float] (i \\in [1, K])\n",
    "    # params['covars_[i]'] -> [2x2 float] (i \\in [1, K])\n",
    "    # params['mixCoeff_[i]'] -> [1x1 float] (i \\in [1, K])\n",
    "    print(\"init \", params)\n",
    "    # EM algorithm\n",
    "    # do not change the iterations --- keep them fixed.\n",
    "    for i in range(10):\n",
    "        # E step\n",
    "        resp = EMEStep(X, K, params); # compute responsibilities, i.e., every \\gamma(z_{n,k})\n",
    "\n",
    "        print(\"iter \", i, \"  resp.shape: \", resp.shape)\n",
    "        \n",
    "        # M step\n",
    "        params = EMMStep(X, K, resp) # update the values for the parameters\n",
    "        print(\"iter \", i,\"  \", params)\n",
    "    # comment out the line below once you have implemented \n",
    "    # the init code!\n",
    "    # params = random_params_generator(K)\n",
    "    # save the final values for the parameters\n",
    "    savemat('params.mat', {'params' : params})\n",
    "    # export in csv.\n",
    "    row = convert_params_to_row(params, K)\n",
    "    with open('params.csv', 'w', encoding='utf-8-sig') as fn:\n",
    "        writer = csv.writer(fn)\n",
    "        writer.writerow(row)"
   ]
  },
  {
   "cell_type": "code",
   "execution_count": null,
   "metadata": {
    "collapsed": false,
    "deletable": true,
    "editable": true
   },
   "outputs": [],
   "source": [
    "GMMDemo(X)"
   ]
  },
  {
   "cell_type": "code",
   "execution_count": null,
   "metadata": {
    "collapsed": false,
    "deletable": true,
    "editable": true
   },
   "outputs": [],
   "source": [
    "import numpy\n",
    "numpy.zeros(2000, 4)\n",
    "z = numpy.zeros((3,5))\n",
    "for i in range(3):\n",
    "    for j in range(5):\n",
    "        print(z[i,j])"
   ]
  },
  {
   "cell_type": "code",
   "execution_count": 98,
   "metadata": {
    "collapsed": false,
    "deletable": true,
    "editable": true
   },
   "outputs": [
    {
     "name": "stdout",
     "output_type": "stream",
     "text": [
      "(1, 4)\n",
      "(5, 4)\n",
      "[[1 2 3 4]\n",
      " [1 2 3 4]\n",
      " [1 2 3 4]\n",
      " [1 2 3 4]\n",
      " [1 2 3 4]]\n",
      "[10 10 10 10 10]\n"
     ]
    },
    {
     "data": {
      "text/plain": [
       "array([2])"
      ]
     },
     "execution_count": 98,
     "metadata": {},
     "output_type": "execute_result"
    }
   ],
   "source": [
    "import numpy as np\n",
    "x = np.array([1,2,3,4])\n",
    "x.shape = (1,4)\n",
    "print(x.shape)\n",
    "xx = np.repeat(x, 5,axis=0)\n",
    "print(xx.shape)\n",
    "print(xx)\n",
    "print(xx.sum(axis=1))\n",
    "np.array([2])"
   ]
  },
  {
   "cell_type": "code",
   "execution_count": 147,
   "metadata": {
    "collapsed": false,
    "deletable": true,
    "editable": true
   },
   "outputs": [
    {
     "name": "stdout",
     "output_type": "stream",
     "text": [
      "funck1 !!!!\n",
      "0.159154943092\n"
     ]
    }
   ],
   "source": [
    "import sys\n",
    "from scipy import stats\n",
    "\n",
    "x =np.array([[ 46.41888623 , 10.1506244 ],\n",
    " [ 10.1506244,    2.21968221]])\n",
    "if np.linalg.cond(x) < 1/sys.float_info.epsilon:\n",
    "    print(\"funck1 !!!!\")\n",
    "xx = stats.multivariate_normal.pdf(np.array([1,1]), np.array([1,1]), x))\n",
    "print(xx)"
   ]
  },
  {
   "cell_type": "code",
   "execution_count": null,
   "metadata": {
    "collapsed": true,
    "deletable": true,
    "editable": true
   },
   "outputs": [],
   "source": []
  }
 ],
 "metadata": {
  "kernelspec": {
   "display_name": "Python 3",
   "language": "python",
   "name": "python3"
  },
  "language_info": {
   "codemirror_mode": {
    "name": "ipython",
    "version": 3
   },
   "file_extension": ".py",
   "mimetype": "text/x-python",
   "name": "python",
   "nbconvert_exporter": "python",
   "pygments_lexer": "ipython3",
   "version": "3.6.0"
  }
 },
 "nbformat": 4,
 "nbformat_minor": 0
}
